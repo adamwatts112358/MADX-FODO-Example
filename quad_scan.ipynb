{
  "nbformat": 4,
  "nbformat_minor": 0,
  "metadata": {
    "colab": {
      "name": "quad_scan.ipynb",
      "provenance": [],
      "collapsed_sections": [],
      "authorship_tag": "ABX9TyPcHFkY9ELHx1kuzRAi5CI/",
      "include_colab_link": true
    },
    "kernelspec": {
      "name": "python3",
      "display_name": "Python 3"
    }
  },
  "cells": [
    {
      "cell_type": "markdown",
      "metadata": {
        "id": "view-in-github",
        "colab_type": "text"
      },
      "source": [
        "<a href=\"https://colab.research.google.com/github/adamwatts112358/MADX-FODO-Example/blob/master/quad_scan.ipynb\" target=\"_parent\"><img src=\"https://colab.research.google.com/assets/colab-badge.svg\" alt=\"Open In Colab\"/></a>"
      ]
    },
    {
      "cell_type": "code",
      "metadata": {
        "id": "GCEHEwQSSqOH",
        "colab_type": "code",
        "colab": {}
      },
      "source": [
        "#%reset -f\n",
        "from sympy import *\n",
        "init_printing(use_latex=\"mathjax\")"
      ],
      "execution_count": 75,
      "outputs": []
    },
    {
      "cell_type": "markdown",
      "metadata": {
        "id": "Y7wd41ISbd2B",
        "colab_type": "text"
      },
      "source": [
        "Derive the relationship between integrated quad $\\kappa = k*l$ and RMS beam size squared $\\sigma^2 = \\sigma_{11}$ for a general optical system between quad and profile monitor."
      ]
    },
    {
      "cell_type": "code",
      "metadata": {
        "id": "CbrOVvKISysA",
        "colab_type": "code",
        "colab": {
          "base_uri": "https://localhost:8080/",
          "height": 38
        },
        "outputId": "282328e9-0e26-4f2e-a3ad-5a01f3dd17f3"
      },
      "source": [
        "# Define varaibles as algebraic symbols for manipulation\n",
        "m11, m12, m21, m22, k = symbols(['m_11', 'm_12', 'm_21', 'm_22', 'kappa'])\n",
        "s11, s12, s22 = symbols(['sigma_11', 'sigma_12', 'sigma_22']) # omitting s21 because s12 = s21\n",
        "A, B, C = symbols(['A', 'B', 'C'])\n",
        "\n",
        "# Define first-order matrcies for quad (thin-lens) and general optical system between quad and multiwire\n",
        "M_quad = Matrix([[1,0],[-k,1]])\n",
        "M_system = Matrix([[m11,m12],[m21,m22]])\n",
        "\n",
        "# Compute total matrix from upstream end of quad to multiwire\n",
        "M_total = M_system*M_quad\n",
        "\n",
        "# Define the beam sigma matrix at the upstream end of the quad\n",
        "S1 = Matrix([[s11,s12],[s12,s22]])\n",
        "\n",
        "# Compute the sigma matrix S2 at the multiwire\n",
        "S2 = simplify(M_total*S1*M_total.T)\n",
        "\n",
        "# Print the squared RMS beam size on the multiwire as function of kappa\n",
        "expand(S2[0,0])"
      ],
      "execution_count": 76,
      "outputs": [
        {
          "output_type": "execute_result",
          "data": {
            "text/latex": "$$\\kappa^{2} m_{12}^{2} \\sigma_{11} - 2 \\kappa m_{11} m_{12} \\sigma_{11} - 2 \\kappa m_{12}^{2} \\sigma_{12} + m_{11}^{2} \\sigma_{11} + 2 m_{11} m_{12} \\sigma_{12} + m_{12}^{2} \\sigma_{22}$$",
            "text/plain": [
              " 2    2                                2          2                          2\n",
              "κ ⋅m₁₂ ⋅σ₁₁ - 2⋅κ⋅m₁₁⋅m₁₂⋅σ₁₁ - 2⋅κ⋅m₁₂ ⋅σ₁₂ + m₁₁ ⋅σ₁₁ + 2⋅m₁₁⋅m₁₂⋅σ₁₂ + m₁₂ \n",
              "\n",
              "    \n",
              "⋅σ₂₂"
            ]
          },
          "metadata": {
            "tags": []
          },
          "execution_count": 76
        }
      ]
    },
    {
      "cell_type": "markdown",
      "metadata": {
        "id": "czKThXL8ewZE",
        "colab_type": "text"
      },
      "source": [
        "Note that the squared RMS beam size on the profile monitor is still a quadratic function of the quadrupole strength. As long as no other elements are changing in the general system between the quad and the profile monitor, the derivation proceeds similarly to the quad-drift-monitor scenario."
      ]
    },
    {
      "cell_type": "code",
      "metadata": {
        "id": "g2U2QF3xZ8Bs",
        "colab_type": "code",
        "colab": {
          "base_uri": "https://localhost:8080/",
          "height": 47
        },
        "outputId": "b1feda49-4175-490b-fbbe-b7009e130778"
      },
      "source": [
        "# Collect terms in order of powers of kappa for s11 at the profile monitor\n",
        "d = collect(expand(S2[0,0]), k, evaluate=False)\n",
        "\n",
        "# Create system of equations, setting A, B, and C equal to the collected terms\n",
        "# in order of power of kappa. I'm parametrizing the parabola as Ak^2+Bk+C\n",
        "Equations = [\n",
        "             Eq(A, d[k**2]),\n",
        "             Eq(B, d[k]),\n",
        "             Eq(C, d[k**0])\n",
        "]\n",
        "\n",
        "# Solve the system for the beam  matrix elements at the profile monitor as a function of integrated quad strength k\n",
        "solve(Equations, [s11, s12, s22])"
      ],
      "execution_count": 77,
      "outputs": [
        {
          "output_type": "execute_result",
          "data": {
            "text/latex": "$$\\left \\{ \\sigma_{11} : \\frac{A}{m_{12}^{2}}, \\quad \\sigma_{12} : - \\frac{1}{m_{12}^{3}} \\left(A m_{11} + \\frac{B m_{12}}{2}\\right), \\quad \\sigma_{22} : \\frac{1}{m_{12}^{4}} \\left(A m_{11}^{2} + B m_{11} m_{12} + C m_{12}^{2}\\right)\\right \\}$$",
            "text/plain": [
              "⎧                 ⎛        B⋅m₁₂⎞                                   ⎫\n",
              "⎪                -⎜A⋅m₁₁ + ─────⎟             2                    2⎪\n",
              "⎪      A          ⎝          2  ⎠        A⋅m₁₁  + B⋅m₁₁⋅m₁₂ + C⋅m₁₂ ⎪\n",
              "⎨σ₁₁: ────, σ₁₂: ─────────────────, σ₂₂: ───────────────────────────⎬\n",
              "⎪        2                 3                            4           ⎪\n",
              "⎪     m₁₂               m₁₂                          m₁₂            ⎪\n",
              "⎩                                                                   ⎭"
            ]
          },
          "metadata": {
            "tags": []
          },
          "execution_count": 77
        }
      ]
    },
    {
      "cell_type": "markdown",
      "metadata": {
        "id": "L1VpcFfhfj9z",
        "colab_type": "text"
      },
      "source": [
        "This solution can be converted to Courant-Snyder notation by using the following relationship: $\\Sigma = \\epsilon \\begin{pmatrix} \\beta & -\\alpha\\\\ -\\alpha & \\gamma \\end{pmatrix} = \\begin{pmatrix}\\sigma_{11} & \\sigma_{12}\\\\\\sigma_{12} & \\sigma_{22}\\end{pmatrix}$"
      ]
    },
    {
      "cell_type": "code",
      "metadata": {
        "id": "FWD2pwAUfkWZ",
        "colab_type": "code",
        "colab": {}
      },
      "source": [
        ""
      ],
      "execution_count": 77,
      "outputs": []
    }
  ]
}